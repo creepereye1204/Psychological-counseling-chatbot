{
 "cells": [
  {
   "cell_type": "code",
   "execution_count": 1,
   "id": "a2e7972d-815e-4628-b8b7-0bfba3f07c5a",
   "metadata": {},
   "outputs": [],
   "source": [
    "class UnstructuredDb():\n",
    "    def __init__(self,path:str=\"chatbot/\",table:str='Psychological_counseling'):\n",
    "        import chromadb\n",
    "        import os\n",
    "        from chromadb.db.base import UniqueConstraintError\n",
    "        from chromadb.utils import embedding_functions\n",
    "        \n",
    "        if not os.path.exists(path):\n",
    "            os.makedirs(path, exist_ok=True)\n",
    "            print(f\"Directory '{path}' created successfully.\")\n",
    "\n",
    "         \n",
    "        \n",
    "        client = chromadb.PersistentClient(path=path)\n",
    "        em = embedding_functions.SentenceTransformerEmbeddingFunction(model_name=\"Huffon/sentence-klue-roberta-base\")\n",
    "        try:\n",
    "            self.collection = client.create_collection(name=table, embedding_function=em)\n",
    "        except UniqueConstraintError: \n",
    "            self.collection = client.get_collection(name=table, embedding_function=em)\n",
    "            \n",
    "    def get(self,question:str)->[str]:\n",
    "        \n",
    "        results=self.collection.query(query_texts=[question],n_results=1)\n",
    "        return results\n",
    "\n",
    "\n",
    "    def add(self,key:str=None,question:str=None,answer:str=None):\n",
    "\n",
    "        self.collection.add(\n",
    "        documents=[question],\n",
    "        metadatas=[answer],\n",
    "        ids=[key]\n",
    "        )"
   ]
  },
  {
   "cell_type": "code",
   "execution_count": 2,
   "id": "ca93740b-d167-426b-a0aa-99bfcc015bef",
   "metadata": {},
   "outputs": [
    {
     "name": "stderr",
     "output_type": "stream",
     "text": [
      "No sentence-transformers model found with name Huffon/sentence-klue-roberta-base. Creating a new one with MEAN pooling.\n"
     ]
    }
   ],
   "source": [
    "db=UnstructuredDb()"
   ]
  },
  {
   "cell_type": "code",
   "execution_count": 11,
   "id": "cac11bb9-335f-4ba3-99e1-bab74cf842a4",
   "metadata": {},
   "outputs": [
    {
     "name": "stdout",
     "output_type": "stream",
     "text": [
      " * Serving Flask app '__main__'\n",
      " * Debug mode: off\n"
     ]
    },
    {
     "name": "stderr",
     "output_type": "stream",
     "text": [
      "WARNING: This is a development server. Do not use it in a production deployment. Use a production WSGI server instead.\n",
      " * Running on http://127.0.0.1:5000\n",
      "Press CTRL+C to quit\n",
      "127.0.0.1 - - [24/May/2024 04:01:31] \"GET / HTTP/1.1\" 200 -\n",
      "127.0.0.1 - - [24/May/2024 04:01:35] \"POST /question HTTP/1.1\" 200 -\n",
      "127.0.0.1 - - [24/May/2024 04:01:39] \"POST /question HTTP/1.1\" 200 -\n",
      "127.0.0.1 - - [24/May/2024 04:01:50] \"POST /question HTTP/1.1\" 200 -\n",
      "127.0.0.1 - - [24/May/2024 04:02:03] \"POST /question HTTP/1.1\" 200 -\n",
      "127.0.0.1 - - [24/May/2024 04:02:15] \"POST /question HTTP/1.1\" 200 -\n",
      "127.0.0.1 - - [24/May/2024 04:02:22] \"POST /question HTTP/1.1\" 200 -\n",
      "127.0.0.1 - - [24/May/2024 04:02:26] \"POST /question HTTP/1.1\" 200 -\n",
      "127.0.0.1 - - [24/May/2024 04:02:39] \"POST /question HTTP/1.1\" 200 -\n",
      "127.0.0.1 - - [24/May/2024 04:02:46] \"POST /question HTTP/1.1\" 200 -\n"
     ]
    }
   ],
   "source": [
    "from flask import Flask, request, jsonify, render_template\n",
    "\n",
    "\n",
    "app = Flask(__name__)\n",
    "\n",
    "@app.route('/', methods=['GET'])\n",
    "def home():\n",
    "    return render_template(\"chatbot.html\")\n",
    "\n",
    "\n",
    "@app.route('/question', methods=['POST'])\n",
    "def answer():\n",
    "    # 클라이언트로부터 받은 데이터를 JSON 형태로 파싱\n",
    "    data = request.get_json()\n",
    "\n",
    "    result=db.get(data.get('text'))\n",
    "    result=list(result['metadatas'][0][0].keys())[0]\n",
    "    return jsonify(response=result)\n",
    "\n",
    "if __name__ == '__main__':\n",
    "    app.run(port=5000)\n"
   ]
  },
  {
   "cell_type": "code",
   "execution_count": null,
   "id": "296c6cb8-b7db-4e44-9417-9a732703095b",
   "metadata": {},
   "outputs": [],
   "source": [
    "# import pandas as pd\n",
    "# import shutil\n",
    "\n",
    "# data=pd.read_csv('wellness_dataset.csv')\n",
    "# for index, row in data.iterrows():\n",
    "#     print((index/1034)*100)\n",
    "#     db.add(answer={row['챗봇']:row['구분']},question=row['유저'],key=str(index))\n",
    "\n",
    "# # 디렉토리를 ZIP 파일로 압축\n",
    "# shutil.make_archive('chatbot', 'zip', './chatbot')\n"
   ]
  }
 ],
 "metadata": {
  "kernelspec": {
   "display_name": "Python 3 (ipykernel)",
   "language": "python",
   "name": "python3"
  },
  "language_info": {
   "codemirror_mode": {
    "name": "ipython",
    "version": 3
   },
   "file_extension": ".py",
   "mimetype": "text/x-python",
   "name": "python",
   "nbconvert_exporter": "python",
   "pygments_lexer": "ipython3",
   "version": "3.11.7"
  }
 },
 "nbformat": 4,
 "nbformat_minor": 5
}
