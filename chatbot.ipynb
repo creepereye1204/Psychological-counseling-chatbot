{
 "cells": [
  {
   "cell_type": "code",
   "execution_count": null,
   "id": "b44cc112-a894-476d-ae87-ee5549d30ae5",
   "metadata": {},
   "outputs": [],
   "source": [
    "class UnstructuredDb():\n",
    "    def __init__(self,path:str=\"chatbot/\",table:str='Psychological_counseling'):\n",
    "        import chromadb\n",
    "        import os\n",
    "        from chromadb.db.base import UniqueConstraintError\n",
    "        from chromadb.utils import embedding_functions\n",
    "        \n",
    "        if not os.path.exists(path):\n",
    "            os.makedirs(path, exist_ok=True)\n",
    "            print(f\"Directory '{path}' created successfully.\")\n",
    "\n",
    "         \n",
    "        \n",
    "        client = chromadb.PersistentClient(path=path)\n",
    "        em = embedding_functions.SentenceTransformerEmbeddingFunction(model_name=\"Huffon/sentence-klue-roberta-base\")\n",
    "        try:\n",
    "            self.collection = client.create_collection(name=table, embedding_function=em)\n",
    "        except UniqueConstraintError: \n",
    "            self.collection = client.get_collection(name=table, embedding_function=em)\n",
    "            \n",
    "    def get(self,question:str)->[str]:\n",
    "        \n",
    "        results=self.collection.query(query_texts=[question],n_results=1)\n",
    "        return results\n",
    "\n",
    "\n",
    "    def add(self,key:str=None,question:str=None,answer:str=None):\n",
    "\n",
    "        self.collection.add(\n",
    "        documents=[question],\n",
    "        metadatas=[answer],\n",
    "        ids=[key]\n",
    "        )"
   ]
  },
  {
   "cell_type": "code",
   "execution_count": null,
   "id": "2468a722-83ac-4d6e-8a66-f2c0fbb60b36",
   "metadata": {},
   "outputs": [],
   "source": [
    "db=UnstructuredDb()"
   ]
  },
  {
   "cell_type": "code",
   "execution_count": null,
   "id": "d835369e-f2f9-4b7e-813f-5e1eceb0c393",
   "metadata": {},
   "outputs": [],
   "source": [
    "# import pandas as pd\n",
    "# import shutil\n",
    "\n",
    "# data=pd.read_csv('wellness_dataset.csv')\n",
    "# for index, row in data.iterrows():\n",
    "#     print((index/1034)*100)\n",
    "#     db.add(answer={row['챗봇']:row['구분']},question=row['유저'],key=str(index))\n",
    "\n",
    "# # 디렉토리를 ZIP 파일로 압축\n",
    "# shutil.make_archive('chatbot', 'zip', './chatbot')\n"
   ]
  },
  {
   "cell_type": "code",
   "execution_count": null,
   "id": "e7909f59-632c-4eb2-ba4b-b1e3f279dbb1",
   "metadata": {},
   "outputs": [],
   "source": [
    "from flask import Flask, render_template\n",
    "\n",
    "app = Flask(__name__)\n",
    "\n",
    "@app.route('/', methods=['GET'])\n",
    "def home():\n",
    "    return render_template(\"chatbot.html\")\n",
    "\n",
    "\n",
    "if __name__ == '__main__':\n",
    "    app.run(host=\"0.0.0.0\", port=9999)\n"
   ]
  }
 ],
 "metadata": {
  "kernelspec": {
   "display_name": "Python 3 (ipykernel)",
   "language": "python",
   "name": "python3"
  },
  "language_info": {
   "codemirror_mode": {
    "name": "ipython",
    "version": 3
   },
   "file_extension": ".py",
   "mimetype": "text/x-python",
   "name": "python",
   "nbconvert_exporter": "python",
   "pygments_lexer": "ipython3",
   "version": "3.11.7"
  }
 },
 "nbformat": 4,
 "nbformat_minor": 5
}
